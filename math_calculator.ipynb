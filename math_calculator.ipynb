{
 "cells": [
  {
   "cell_type": "code",
   "execution_count": 2,
   "metadata": {},
   "outputs": [],
   "source": [
    "import math"
   ]
  },
  {
   "cell_type": "code",
   "execution_count": 3,
   "metadata": {},
   "outputs": [
    {
     "name": "stdout",
     "output_type": "stream",
     "text": [
      "a softmax: 0.6871351050192342\n",
      "b softmax: 0.10590377854728927\n",
      "c softmax: 0.20696111643347648\n"
     ]
    }
   ],
   "source": [
    "a = 1.43\n",
    "b = -0.44\n",
    "c = 0.23\n",
    "s = math.exp(a) + math.exp(b) + math.exp(c)\n",
    "print('a softmax:', math.exp(a)/s)\n",
    "print('b softmax:', math.exp(b)/s)\n",
    "print('c softmax:', math.exp(c)/s)"
   ]
  },
  {
   "cell_type": "code",
   "execution_count": null,
   "metadata": {},
   "outputs": [],
   "source": []
  }
 ],
 "metadata": {
  "kernelspec": {
   "display_name": "Python 3",
   "language": "python",
   "name": "python3"
  },
  "language_info": {
   "codemirror_mode": {
    "name": "ipython",
    "version": 3
   },
   "file_extension": ".py",
   "mimetype": "text/x-python",
   "name": "python",
   "nbconvert_exporter": "python",
   "pygments_lexer": "ipython3",
   "version": "3.7.4"
  }
 },
 "nbformat": 4,
 "nbformat_minor": 4
}
