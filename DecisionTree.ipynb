{
 "cells": [
  {
   "cell_type": "markdown",
   "metadata": {},
   "source": [
    "# Decision Tree from the scratch only by Pandas&Numpy\n"
   ]
  },
  {
   "cell_type": "markdown",
   "metadata": {},
   "source": [
    "# 0. Import libraries"
   ]
  },
  {
   "cell_type": "code",
   "execution_count": 1,
   "metadata": {},
   "outputs": [],
   "source": [
    "import numpy as np\n",
    "import pandas as pd\n",
    "\n",
    "import matplotlib.pyplot as plt\n",
    "import seaborn as sns\n",
    "\n",
    "import random\n",
    "from pprint import pprint"
   ]
  },
  {
   "cell_type": "markdown",
   "metadata": {},
   "source": [
    "# 0. Load data and prepare data"
   ]
  },
  {
   "cell_type": "code",
   "execution_count": 2,
   "metadata": {},
   "outputs": [
    {
     "data": {
      "text/html": [
       "<div>\n",
       "<style scoped>\n",
       "    .dataframe tbody tr th:only-of-type {\n",
       "        vertical-align: middle;\n",
       "    }\n",
       "\n",
       "    .dataframe tbody tr th {\n",
       "        vertical-align: top;\n",
       "    }\n",
       "\n",
       "    .dataframe thead th {\n",
       "        text-align: right;\n",
       "    }\n",
       "</style>\n",
       "<table border=\"1\" class=\"dataframe\">\n",
       "  <thead>\n",
       "    <tr style=\"text-align: right;\">\n",
       "      <th></th>\n",
       "      <th>Pclass</th>\n",
       "      <th>Sex</th>\n",
       "      <th>Age</th>\n",
       "      <th>SibSp</th>\n",
       "      <th>Parch</th>\n",
       "      <th>Fare</th>\n",
       "      <th>Embarked</th>\n",
       "      <th>label</th>\n",
       "    </tr>\n",
       "  </thead>\n",
       "  <tbody>\n",
       "    <tr>\n",
       "      <th>0</th>\n",
       "      <td>3</td>\n",
       "      <td>male</td>\n",
       "      <td>22.0</td>\n",
       "      <td>1</td>\n",
       "      <td>0</td>\n",
       "      <td>7.2500</td>\n",
       "      <td>S</td>\n",
       "      <td>0</td>\n",
       "    </tr>\n",
       "    <tr>\n",
       "      <th>1</th>\n",
       "      <td>1</td>\n",
       "      <td>female</td>\n",
       "      <td>38.0</td>\n",
       "      <td>1</td>\n",
       "      <td>0</td>\n",
       "      <td>71.2833</td>\n",
       "      <td>C</td>\n",
       "      <td>1</td>\n",
       "    </tr>\n",
       "    <tr>\n",
       "      <th>2</th>\n",
       "      <td>3</td>\n",
       "      <td>female</td>\n",
       "      <td>26.0</td>\n",
       "      <td>0</td>\n",
       "      <td>0</td>\n",
       "      <td>7.9250</td>\n",
       "      <td>S</td>\n",
       "      <td>1</td>\n",
       "    </tr>\n",
       "    <tr>\n",
       "      <th>3</th>\n",
       "      <td>1</td>\n",
       "      <td>female</td>\n",
       "      <td>35.0</td>\n",
       "      <td>1</td>\n",
       "      <td>0</td>\n",
       "      <td>53.1000</td>\n",
       "      <td>S</td>\n",
       "      <td>1</td>\n",
       "    </tr>\n",
       "    <tr>\n",
       "      <th>4</th>\n",
       "      <td>3</td>\n",
       "      <td>male</td>\n",
       "      <td>35.0</td>\n",
       "      <td>0</td>\n",
       "      <td>0</td>\n",
       "      <td>8.0500</td>\n",
       "      <td>S</td>\n",
       "      <td>0</td>\n",
       "    </tr>\n",
       "  </tbody>\n",
       "</table>\n",
       "</div>"
      ],
      "text/plain": [
       "   Pclass     Sex   Age  SibSp  Parch     Fare Embarked  label\n",
       "0       3    male  22.0      1      0   7.2500        S      0\n",
       "1       1  female  38.0      1      0  71.2833        C      1\n",
       "2       3  female  26.0      0      0   7.9250        S      1\n",
       "3       1  female  35.0      1      0  53.1000        S      1\n",
       "4       3    male  35.0      0      0   8.0500        S      0"
      ]
     },
     "execution_count": 2,
     "metadata": {},
     "output_type": "execute_result"
    }
   ],
   "source": [
    "df = pd.read_csv(\"./data/Titanic.csv\")\n",
    "df[\"label\"] = df.Survived # label ==  if survised\n",
    "df = df.drop([\"PassengerId\", \"Survived\", \"Name\", \"Ticket\", \"Cabin\"], axis=1)\n",
    "df.head()"
   ]
  },
  {
   "cell_type": "code",
   "execution_count": 3,
   "metadata": {},
   "outputs": [
    {
     "name": "stdout",
     "output_type": "stream",
     "text": [
      "<class 'pandas.core.frame.DataFrame'>\n",
      "RangeIndex: 891 entries, 0 to 890\n",
      "Data columns (total 8 columns):\n",
      " #   Column    Non-Null Count  Dtype  \n",
      "---  ------    --------------  -----  \n",
      " 0   Pclass    891 non-null    int64  \n",
      " 1   Sex       891 non-null    object \n",
      " 2   Age       714 non-null    float64\n",
      " 3   SibSp     891 non-null    int64  \n",
      " 4   Parch     891 non-null    int64  \n",
      " 5   Fare      891 non-null    float64\n",
      " 6   Embarked  889 non-null    object \n",
      " 7   label     891 non-null    int64  \n",
      "dtypes: float64(2), int64(4), object(2)\n",
      "memory usage: 55.8+ KB\n"
     ]
    }
   ],
   "source": [
    "df.info()"
   ]
  },
  {
   "cell_type": "markdown",
   "metadata": {},
   "source": [
    "In the infomation table of the raw dataset, we can see the column **Age** and **Embarked** involve missing values. The missing value of age will be filled by the median, and the missing values of embarked will be filled by the highest frequency value in the existing values."
   ]
  },
  {
   "cell_type": "code",
   "execution_count": 4,
   "metadata": {},
   "outputs": [],
   "source": [
    "# fill missing values\n",
    "median_age = df.Age.median()\n",
    "mode_embarked = df.Embarked.mode()[0]\n",
    "\n",
    "df = df.fillna({\"Age\": median_age, \"Embarked\": mode_embarked})"
   ]
  },
  {
   "cell_type": "markdown",
   "metadata": {},
   "source": [
    "# 0. Train-test-split"
   ]
  },
  {
   "cell_type": "code",
   "execution_count": 5,
   "metadata": {},
   "outputs": [],
   "source": [
    "def train_test_split(df, test_size):\n",
    "    \n",
    "    if isinstance(test_size, float):# test_size is the ratio of training set and test set\n",
    "        test_size = round(test_size * len(df))\n",
    "\n",
    "    indices = df.index.tolist()\n",
    "    test_indices = random.sample(population=indices, k=test_size)\n",
    "\n",
    "    test_df = df.loc[test_indices]\n",
    "    train_df = df.drop(test_indices)\n",
    "    \n",
    "    return train_df, test_df"
   ]
  },
  {
   "cell_type": "code",
   "execution_count": 6,
   "metadata": {},
   "outputs": [],
   "source": [
    "train_df, test_df = train_test_split(df, test_size=0.2)"
   ]
  },
  {
   "cell_type": "markdown",
   "metadata": {},
   "source": [
    "# 1. Helper functions:\n",
    "## How many potential split options?"
   ]
  },
  {
   "cell_type": "code",
   "execution_count": 7,
   "metadata": {},
   "outputs": [],
   "source": [
    "def get_potential_splits(df):\n",
    "    potential_splits = {}\n",
    "    _, n_columns = df.shape # n_columns - 1 is the number of features \n",
    "    for column_index in range(n_columns - 1):    \n",
    "        values = df.iloc[:,column_index]\n",
    "        unique_values = np.unique(values)\n",
    "        \n",
    "        potential_splits[column_index] = unique_values\n",
    "    \n",
    "    return potential_splits"
   ]
  },
  {
   "cell_type": "markdown",
   "metadata": {},
   "source": [
    "## Calculate impurity using the Entropy\n",
    "$Entropy_i=sum(-P_ilog_2P_i)$ of each part of one split\n",
    "\n",
    "$Overal_{Entropy} = sum(P_iEntropy_i) $"
   ]
  },
  {
   "cell_type": "code",
   "execution_count": 8,
   "metadata": {},
   "outputs": [],
   "source": [
    "def entropy(df):\n",
    "    y = df.iloc[:,-1]\n",
    "    p = y.value_counts()/len(y) # the percentage of each distinct value among the whole\n",
    "    entropy = np.sum(-p*np.log2(p))\n",
    "    return entropy"
   ]
  },
  {
   "cell_type": "code",
   "execution_count": 9,
   "metadata": {},
   "outputs": [],
   "source": [
    "def get_impurity(df, feature_index_split, value_split):\n",
    "    feature_name = df.columns[feature_index_split]\n",
    "    values = df.iloc[:,feature_index_split]\n",
    "    if values.dtype == 'O': \n",
    "        # if categorical feature\n",
    "        below_data = df[df[feature_name] == value_split]\n",
    "        above_data = df[df[feature_name] != value_split]\n",
    "    else:\n",
    "        # if cotinuous\n",
    "        below_data = df[df[feature_name] <= value_split]\n",
    "        above_data = df[df[feature_name] > value_split]\n",
    "        \n",
    "    ##\n",
    "    n = len(values)\n",
    "    p_below_data = len(below_data) / n\n",
    "    p_above_data = len(above_data) / n\n",
    "\n",
    "    impurity =  p_below_data * entropy(below_data) + p_above_data * entropy(above_data)\n",
    "    \n",
    "    return impurity"
   ]
  },
  {
   "cell_type": "markdown",
   "metadata": {},
   "source": [
    "## Get the best split option"
   ]
  },
  {
   "cell_type": "code",
   "execution_count": 10,
   "metadata": {},
   "outputs": [],
   "source": [
    "def get_best_split(df, potential_splits):\n",
    "    \n",
    "    impurity = 9999\n",
    "    for feature_index in potential_splits:\n",
    "        for value in potential_splits[feature_index]:\n",
    "            current_impurity = get_impurity(df, feature_index_split=feature_index, value_split=value)\n",
    "\n",
    "            if current_impurity <= impurity:\n",
    "                impurity = current_impurity\n",
    "                best_split_feature_index = feature_index\n",
    "                best_split_value = value\n",
    "    \n",
    "    return best_split_feature_index, best_split_value"
   ]
  },
  {
   "cell_type": "markdown",
   "metadata": {},
   "source": [
    "# Split the data based on the best split option"
   ]
  },
  {
   "cell_type": "code",
   "execution_count": 11,
   "metadata": {},
   "outputs": [],
   "source": [
    "def get_below_above_data(df, best_split_feature_index, best_split_value):\n",
    "    feature_name = df.columns[best_split_feature_index]\n",
    "    values = df.iloc[:,best_split_feature_index]\n",
    "    if values.dtype == 'O': \n",
    "        # if categorical feature\n",
    "        below_data = df[df[feature_name] == best_split_value]\n",
    "        above_data = df[df[feature_name] != best_split_value]\n",
    "    else:\n",
    "        # if cotinuous\n",
    "        below_data = df[df[feature_name] <= best_split_value]\n",
    "        above_data = df[df[feature_name] > best_split_value]\n",
    "    return below_data, above_data"
   ]
  },
  {
   "cell_type": "markdown",
   "metadata": {},
   "source": [
    "## Get the most probable(frequent) class"
   ]
  },
  {
   "cell_type": "code",
   "execution_count": 12,
   "metadata": {},
   "outputs": [],
   "source": [
    "def classify_data(df): # the classified label is the most frequent element\n",
    "    labels = df.iloc[:, -1]\n",
    "    \n",
    "    unique_classes, counts_unique_classes = np.unique(labels, return_counts=True)\n",
    "\n",
    "    index = counts_unique_classes.argmax()\n",
    "    classification = unique_classes[index]\n",
    "    return classification"
   ]
  },
  {
   "cell_type": "markdown",
   "metadata": {},
   "source": [
    "## Stop conditions\n",
    "- The sampled data set is totally pure.\n",
    "- The size of the sampled data set is small enough. (min_sample)\n",
    "- The depth of the tree is big enough. (max_depth)"
   ]
  },
  {
   "cell_type": "code",
   "execution_count": 13,
   "metadata": {},
   "outputs": [],
   "source": [
    "def get_pure(df):\n",
    "    labels = df.iloc[:, -1]\n",
    "    unique_labels = set(labels)\n",
    "    \n",
    "    if len(unique_labels) == 1:\n",
    "        return True\n",
    "    else:\n",
    "        return False"
   ]
  },
  {
   "cell_type": "markdown",
   "metadata": {},
   "source": [
    "# 2. Decison Tree Algorithm "
   ]
  },
  {
   "cell_type": "code",
   "execution_count": 14,
   "metadata": {},
   "outputs": [],
   "source": [
    "def decision_tree(df, current_depth=0, min_samples=2, max_depth=5):\n",
    "    # check stop conditions\n",
    "    if (get_pure(df)) or (len(df) < min_samples) or (current_depth == max_depth):\n",
    "        classification = classify_data(df)\n",
    "        return classification\n",
    "    \n",
    "    # recursive part\n",
    "    else:\n",
    "        current_depth += 1\n",
    "        \n",
    "        # split the data into yes answer or no answer\n",
    "        potential_splits = get_potential_splits(df)\n",
    "        best_split_feature_index, best_split_value = get_best_split(df, potential_splits)\n",
    "        below_data, above_data = get_below_above_data(df, best_split_feature_index, best_split_value)\n",
    "        \n",
    "        # check for empty data\n",
    "        if len(below_data) == 0 or len(above_data) == 0:\n",
    "            classification = classify_data(df)\n",
    "            return classification\n",
    "\n",
    "\n",
    "        # determine question\n",
    "        feature_name = df.columns[best_split_feature_index]\n",
    "        feature_type = df.iloc[:,best_split_feature_index].dtype\n",
    "        if feature_type == 'O': # if categorical\n",
    "            question = \"{} = {}\".format(feature_name, best_split_value)\n",
    "        else:\n",
    "            question = \"{} <= {}\".format(feature_name, best_split_value)\n",
    "        \n",
    "        # instantiate sub-tree\n",
    "        sub_tree = {question: []}\n",
    "        \n",
    "        # find answers (recursion)\n",
    "        yes_answer = decision_tree(below_data, current_depth, min_samples, max_depth)\n",
    "        no_answer = decision_tree(above_data, current_depth, min_samples, max_depth)\n",
    "        \n",
    "        # If the answers are the same, then there is no point in asking the qestion.\n",
    "        # This could happen when the data is classified even though it is not pure\n",
    "        # yet (min_samples or max_depth base case).\n",
    "        if yes_answer == no_answer:\n",
    "            sub_tree = yes_answer\n",
    "        else:\n",
    "            sub_tree[question].append(yes_answer)\n",
    "            sub_tree[question].append(no_answer)\n",
    "        \n",
    "        return sub_tree"
   ]
  },
  {
   "cell_type": "code",
   "execution_count": 15,
   "metadata": {
    "scrolled": false
   },
   "outputs": [
    {
     "name": "stdout",
     "output_type": "stream",
     "text": [
      "{'Sex = male': [{'Age <= 6.0': [{'SibSp <= 2': [1,\n",
      "                                                {'Age <= 2.0': [0,\n",
      "                                                                {'Fare <= 27.9': [0,\n",
      "                                                                                  1]}]}]},\n",
      "                                {'Pclass <= 1': [{'Fare <= 25.925': [0,\n",
      "                                                                     {'Fare <= 26.3875': [1,\n",
      "                                                                                          {'Fare <= 263.0': [{'Fare <= 133.65': [{'Age <= 25.0': [{'Fare <= 53.1': [0,\n",
      "                                                                                                                                                                    1]},\n",
      "                                                                                                                                                  {'Age <= 60.0': [{'Fare <= 26.55': [1,\n",
      "                                                                                                                                                                                      0]},\n",
      "                                                                                                                                                                   {'Age <= 71.0': [0,\n",
      "                                                                                                                                                                                    1]}]}]},\n",
      "                                                                                                                                 0]},\n",
      "                                                                                                             1]}]}]},\n",
      "                                                 {'SibSp <= 1': [{'Age <= 12.0': [{'SibSp <= 0': [0,\n",
      "                                                                                                  1]},\n",
      "                                                                                  {'Fare <= 41.5792': [{'Fare <= 18.7875': [{'Fare <= 16.1': [0,\n",
      "                                                                                                                                              1]},\n",
      "                                                                                                                            0]},\n",
      "                                                                                                       {'Age <= 28.0': [0,\n",
      "                                                                                                                        1]}]}]},\n",
      "                                                                 0]}]}]},\n",
      "                {'Pclass <= 2': [{'Age <= 2.0': [{'Fare <= 26.0': [1, 0]},\n",
      "                                                 {'Fare <= 28.7125': [{'Age <= 36.0': [{'Fare <= 24.0': [1,\n",
      "                                                                                                         {'Parch <= 0': [1,\n",
      "                                                                                                                         {'Fare <= 26.0': [{'Parch <= 1': [0,\n",
      "                                                                                                                                                           1]},\n",
      "                                                                                                                                           1]}]}]},\n",
      "                                                                                       {'Fare <= 27.7208': [{'Age <= 38.0': [0,\n",
      "                                                                                                                             {'Age <= 55.0': [{'SibSp <= 0': [1,\n",
      "                                                                                                                                                              {'Parch <= 0': [0,\n",
      "                                                                                                                                                                              1]}]},\n",
      "                                                                                                                                              {'Fare <= 10.5': [0,\n",
      "                                                                                                                                                                1]}]}]},\n",
      "                                                                                                            0]}]},\n",
      "                                                                      {'Parch <= 1': [1,\n",
      "                                                                                      {'Age <= 24.0': [1,\n",
      "                                                                                                       {'Age <= 25.0': [0,\n",
      "                                                                                                                        1]}]}]}]}]},\n",
      "                                 {'Fare <= 31.3875': [{'Age <= 38.0': [{'Embarked = S': [{'Fare <= 7.75': [1,\n",
      "                                                                                                           {'Age <= 30.0': [{'Fare <= 16.7': [{'Fare <= 10.5167': [0,\n",
      "                                                                                                                                                                   1]},\n",
      "                                                                                                                                              {'Fare <= 31.275': [0,\n",
      "                                                                                                                                                                  1]}]},\n",
      "                                                                                                                            {'Fare <= 9.5875': [{'Fare <= 8.6833': [{'Fare <= 7.8542': [0,\n",
      "                                                                                                                                                                                        1]},\n",
      "                                                                                                                                                                    0]},\n",
      "                                                                                                                                                1]}]}]},\n",
      "                                                                                         {'Age <= 29.0': [{'Fare <= 14.4583': [{'Fare <= 13.4167': [{'Age <= 16.0': [1,\n",
      "                                                                                                                                                                     {'Age <= 21.0': [0,\n",
      "                                                                                                                                                                                      1]}]},\n",
      "                                                                                                                                                    0]},\n",
      "                                                                                                                               1]},\n",
      "                                                                                                          0]}]},\n",
      "                                                                       0]},\n",
      "                                                      0]}]}]}\n"
     ]
    }
   ],
   "source": [
    "tree = decision_tree(train_df, max_depth=10)\n",
    "pprint(tree)"
   ]
  },
  {
   "cell_type": "code",
   "execution_count": null,
   "metadata": {},
   "outputs": [],
   "source": []
  },
  {
   "cell_type": "code",
   "execution_count": null,
   "metadata": {},
   "outputs": [],
   "source": []
  },
  {
   "cell_type": "code",
   "execution_count": null,
   "metadata": {},
   "outputs": [],
   "source": []
  },
  {
   "cell_type": "code",
   "execution_count": 18,
   "metadata": {},
   "outputs": [],
   "source": [
    "def classify_example(example, tree):\n",
    "    question = list(tree.keys())[0]\n",
    "    feature_name, comparison_operator, value = question.split(\" \")\n",
    "\n",
    "    # ask question\n",
    "    if comparison_operator == \"<=\":  # feature is continuous\n",
    "        if example[feature_name] <= float(value):\n",
    "            answer = tree[question][0]\n",
    "        else:\n",
    "            answer = tree[question][1]\n",
    "    \n",
    "    # feature is categorical\n",
    "    else:\n",
    "        if str(example[feature_name]) == value:\n",
    "            answer = tree[question][0]\n",
    "        else:\n",
    "            answer = tree[question][1]\n",
    "\n",
    "    # base case\n",
    "    if not isinstance(answer, dict):\n",
    "        return answer\n",
    "    \n",
    "    # recursive part\n",
    "    else:\n",
    "        residual_tree = answer\n",
    "        return classify_example(example, residual_tree)"
   ]
  },
  {
   "cell_type": "code",
   "execution_count": 19,
   "metadata": {},
   "outputs": [],
   "source": [
    "def calculate_accuracy(df, tree):\n",
    "\n",
    "    df[\"classification\"] = df.apply(classify_example, axis=1, args=(tree,))\n",
    "    df[\"classification_correct\"] = df[\"classification\"] == df[\"label\"]\n",
    "    \n",
    "    accuracy = df[\"classification_correct\"].mean()\n",
    "    \n",
    "    return accuracy"
   ]
  },
  {
   "cell_type": "code",
   "execution_count": 20,
   "metadata": {},
   "outputs": [
    {
     "data": {
      "text/plain": [
       "0.7808988764044944"
      ]
     },
     "execution_count": 20,
     "metadata": {},
     "output_type": "execute_result"
    }
   ],
   "source": [
    "accuracy = calculate_accuracy(test_df, tree)\n",
    "accuracy"
   ]
  },
  {
   "cell_type": "code",
   "execution_count": null,
   "metadata": {},
   "outputs": [],
   "source": []
  }
 ],
 "metadata": {
  "kernelspec": {
   "display_name": "Python 3",
   "language": "python",
   "name": "python3"
  },
  "language_info": {
   "codemirror_mode": {
    "name": "ipython",
    "version": 3
   },
   "file_extension": ".py",
   "mimetype": "text/x-python",
   "name": "python",
   "nbconvert_exporter": "python",
   "pygments_lexer": "ipython3",
   "version": "3.7.4"
  }
 },
 "nbformat": 4,
 "nbformat_minor": 4
}
