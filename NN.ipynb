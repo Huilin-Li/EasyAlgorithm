{
 "cells": [
  {
   "cell_type": "markdown",
   "metadata": {},
   "source": [
    "# Neural Network \n",
    "In this blog, I want to help people fully understand the core process of the neural network step by step as ***simple*** as possible, as ***less words*** as possible. \n",
    "\n",
    "You will understand the whole process firstly from the overview level and then to the detailed level. At the end, you will know how to build up your own neural network without Tensorflow/Pytorch. \n",
    "\n",
    "## Core idea\n",
    "- **What researchers have at the beginning**: a set of samples(data) with targets. It can be imaged as a big table in which the number of rows is the number of samples, and the number of coloumns is the number of features of each sample. Each sample has a corresponding targets.\n",
    "- **What researchers expect at the end**: a set of optimal parameters within the customized neural network architecture, and this neural network can predict the target as correct as possible.\n",
    "- **How the neural network finds the optimal parameters by itself**: For example, there are 100 samples($i$) and the stop condistion is 5 iterations. In the first iteration, each sample goes through the forward propagation with initial parameters and obtains a predicted target. Then, for each sample, there will be a difference ($error_i$) between the predicted target and the actual target. The summary of the total $error_i$s over 100 samples ($i$) will be used to adjust parameters simultaneously. How? Let's calculate the derivative of the summary of the total $error_i$s with respect to each parameter. Till now, we finish update of paramters once. Then, this newly updated parameters will be treated as the initial parameter in the next iteration.\n",
    "\n",
    "## Example\n",
    "We have 3 samples with 2 features in 3 classifications.\n",
    "<img src=\"pictures/Picture3.png\" width=\"500\" height=\"250\">\n",
    "The following picture gives you everything needed in a complete neural network. ***Please note, one sample has one 'difference', and the parameters will be updated after gaining all 'difference' over all samples.*** That is the training process should be \n",
    "<img src=\"pictures/Picture2.png\" width=\"1000\" height=\"500\">\n",
    "\n",
    "\n",
    "<img src=\"pictures/writing1-1.png\">\n",
    "<img src=\"pictures/writing1-2.png\" width=\"1000\" height=\"500\">\n",
    "<img src=\"pictures/writing1-3.png\" width=\"1000\" height=\"500\">\n",
    "\n",
    "\n",
    "In this example, \n",
    "- each sample has 2 features, and there are 3 classifications.\n",
    "- one hidden layer has 2 neurons.\n",
    "- forward propagation with activation function and softmax function\n",
    "- activatio"
   ]
  },
  {
   "cell_type": "code",
   "execution_count": 67,
   "metadata": {},
   "outputs": [],
   "source": [
    "import matplotlib.pyplot as plt\n",
    "import numpy as np\n",
    "import pandas as pd\n",
    "\n",
    "from sklearn.datasets import make_blobs"
   ]
  },
  {
   "cell_type": "code",
   "execution_count": 78,
   "metadata": {},
   "outputs": [
    {
     "data": {
      "text/html": [
       "<div>\n",
       "<style scoped>\n",
       "    .dataframe tbody tr th:only-of-type {\n",
       "        vertical-align: middle;\n",
       "    }\n",
       "\n",
       "    .dataframe tbody tr th {\n",
       "        vertical-align: top;\n",
       "    }\n",
       "\n",
       "    .dataframe thead th {\n",
       "        text-align: right;\n",
       "    }\n",
       "</style>\n",
       "<table border=\"1\" class=\"dataframe\">\n",
       "  <thead>\n",
       "    <tr style=\"text-align: right;\">\n",
       "      <th></th>\n",
       "      <th>x1</th>\n",
       "      <th>x2</th>\n",
       "      <th>target</th>\n",
       "    </tr>\n",
       "  </thead>\n",
       "  <tbody>\n",
       "    <tr>\n",
       "      <th>0</th>\n",
       "      <td>2.729300</td>\n",
       "      <td>6.441733</td>\n",
       "      <td>1.0</td>\n",
       "    </tr>\n",
       "    <tr>\n",
       "      <th>1</th>\n",
       "      <td>5.499696</td>\n",
       "      <td>-8.411229</td>\n",
       "      <td>0.0</td>\n",
       "    </tr>\n",
       "    <tr>\n",
       "      <th>2</th>\n",
       "      <td>0.788115</td>\n",
       "      <td>4.258565</td>\n",
       "      <td>1.0</td>\n",
       "    </tr>\n",
       "    <tr>\n",
       "      <th>3</th>\n",
       "      <td>6.253411</td>\n",
       "      <td>-11.539473</td>\n",
       "      <td>0.0</td>\n",
       "    </tr>\n",
       "    <tr>\n",
       "      <th>4</th>\n",
       "      <td>2.866765</td>\n",
       "      <td>5.519313</td>\n",
       "      <td>1.0</td>\n",
       "    </tr>\n",
       "  </tbody>\n",
       "</table>\n",
       "</div>"
      ],
      "text/plain": [
       "         x1         x2  target\n",
       "0  2.729300   6.441733     1.0\n",
       "1  5.499696  -8.411229     0.0\n",
       "2  0.788115   4.258565     1.0\n",
       "3  6.253411 -11.539473     0.0\n",
       "4  2.866765   5.519313     1.0"
      ]
     },
     "execution_count": 78,
     "metadata": {},
     "output_type": "execute_result"
    }
   ],
   "source": [
    "X, Y = make_blobs(n_samples=500, centers=3, n_features=2, random_state=10)\n",
    "XY = np.concatenate((X, np.reshape(Y, (len(Y), 1))), axis=1)\n",
    "df = pd.DataFrame(XY, columns=['x1','x2', 'target'])\n",
    "df.head()"
   ]
  },
  {
   "cell_type": "code",
   "execution_count": 79,
   "metadata": {},
   "outputs": [
    {
     "data": {
      "text/plain": [
       "Text(0.5, 1.0, ' My Dataset')"
      ]
     },
     "execution_count": 79,
     "metadata": {},
     "output_type": "execute_result"
    },
    {
     "data": {
      "image/png": "[encoded data removed]",
      "text/plain": [
       "<Figure size 432x432 with 1 Axes>"
      ]
     },
     "metadata": {
      "needs_background": "light"
     },
     "output_type": "display_data"
    }
   ],
   "source": [
    "# visualize\n",
    "fig = plt.figure(figsize=(6,6))\n",
    "ax = fig.add_subplot(111)\n",
    "df[df.target==0].plot(kind='scatter', ax=ax, x='x1', y='x2', color='blue')\n",
    "df[df.target==1].plot(kind='scatter', ax=ax, x='x1', y='x2', color='red')\n",
    "df[df.target==2].plot(kind='scatter', ax=ax, x='x1', y='x2', color='yellow')\n",
    "plt.grid()\n",
    "plt.title(' My Dataset')"
   ]
  },
  {
   "cell_type": "code",
   "execution_count": null,
   "metadata": {},
   "outputs": [],
   "source": []
  },
  {
   "cell_type": "code",
   "execution_count": null,
   "metadata": {},
   "outputs": [],
   "source": []
  },
  {
   "cell_type": "code",
   "execution_count": null,
   "metadata": {},
   "outputs": [],
   "source": []
  },
  {
   "cell_type": "code",
   "execution_count": null,
   "metadata": {},
   "outputs": [],
   "source": []
  },
  {
   "cell_type": "code",
   "execution_count": null,
   "metadata": {},
   "outputs": [],
   "source": []
  },
  {
   "cell_type": "code",
   "execution_count": null,
   "metadata": {},
   "outputs": [],
   "source": []
  },
  {
   "cell_type": "code",
   "execution_count": null,
   "metadata": {},
   "outputs": [],
   "source": []
  },
  {
   "cell_type": "code",
   "execution_count": null,
   "metadata": {},
   "outputs": [],
   "source": []
  },
  {
   "cell_type": "code",
   "execution_count": null,
   "metadata": {},
   "outputs": [],
   "source": []
  },
  {
   "cell_type": "code",
   "execution_count": null,
   "metadata": {},
   "outputs": [],
   "source": []
  }
 ],
 "metadata": {
  "kernelspec": {
   "display_name": "Python 3",
   "language": "python",
   "name": "python3"
  },
  "language_info": {
   "codemirror_mode": {
    "name": "ipython",
    "version": 3
   },
   "file_extension": ".py",
   "mimetype": "text/x-python",
   "name": "python",
   "nbconvert_exporter": "python",
   "pygments_lexer": "ipython3",
   "version": "3.7.4"
  }
 },
 "nbformat": 4,
 "nbformat_minor": 4
}
