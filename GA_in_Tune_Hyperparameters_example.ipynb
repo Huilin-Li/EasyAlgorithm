{
 "cells": [
  {
   "cell_type": "code",
   "execution_count": 6,
   "metadata": {},
   "outputs": [],
   "source": [
    "# pip install sklearn-genetic-opt --use-feature=2020-resolver\n",
    "# https://towardsdatascience.com/tune-your-scikit-learn-model-using-evolutionary-algorithms-30538248ac16"
   ]
  },
  {
   "cell_type": "code",
   "execution_count": 3,
   "metadata": {},
   "outputs": [],
   "source": [
    "from sklearn.ensemble import RandomForestClassifier\n",
    "from sklearn.model_selection import train_test_split\n",
    "from sklearn.datasets import load_digits\n",
    "from sklearn.metrics import accuracy_score\n",
    "\n",
    "data = load_digits() \n",
    "\n",
    "n_samples = len(data.images)\n",
    "X = data.images.reshape((n_samples, -1))\n",
    "y = data['target']\n",
    "\n",
    "X_train, X_test, y_train, y_test = train_test_split(X, y, test_size=0.7)\n",
    "\n",
    "clf = RandomForestClassifier()"
   ]
  },
  {
   "cell_type": "code",
   "execution_count": 4,
   "metadata": {},
   "outputs": [],
   "source": [
    "from sklearn_genetic import GASearchCV\n",
    "from sklearn_genetic.space import Continuous, Categorical, Integer\n",
    "from sklearn_genetic.plots import plot_fitness_evolution, plot_search_space\n",
    "from sklearn.model_selection import StratifiedKFold\n",
    "import matplotlib.pyplot as plt\n",
    "\n",
    "param_grid = {'min_weight_fraction_leaf': Continuous(0.01, 0.5, distribution='log-uniform'),\n",
    "              'bootstrap': Categorical([True, False]),\n",
    "              'max_depth': Integer(2, 30), \n",
    "              'max_leaf_nodes': Integer(2, 35), \n",
    "              'n_estimators': Integer(100, 300)}\n",
    "\n",
    "cv = StratifiedKFold(n_splits=3, shuffle=True)\n",
    "\n",
    "evolved_estimator = GASearchCV(estimator=clf,\n",
    "                               cv=cv,\n",
    "                               scoring='accuracy',\n",
    "                               population_size=10,\n",
    "                               generations=35,\n",
    "                               tournament_size=3,\n",
    "                               elitism=True,\n",
    "                               crossover_probability=0.8,\n",
    "                               mutation_probability=0.1,\n",
    "                               param_grid=param_grid,\n",
    "                               criteria='max',\n",
    "                               algorithm='eaMuPlusLambda',\n",
    "                               n_jobs=-1,\n",
    "                               verbose=True,\n",
    "                               keep_top_k=4)"
   ]
  },
  {
   "cell_type": "code",
   "execution_count": 5,
   "metadata": {},
   "outputs": [
    {
     "name": "stdout",
     "output_type": "stream",
     "text": [
      "gen\tnevals\tfitness \tfitness_std\tfitness_max\tfitness_min\n",
      "0  \t10    \t0.800186\t0.110103   \t0.931378   \t0.57156    \n",
      "1  \t20    \t0.878503\t0.0452612  \t0.936944   \t0.808866   \n",
      "2  \t19    \t0.907076\t0.0314891  \t0.936944   \t0.862694   \n",
      "3  \t16    \t0.931929\t0.00362646 \t0.936944   \t0.92395    \n",
      "4  \t20    \t0.933036\t0.00256121 \t0.936944   \t0.929495   \n",
      "5  \t18    \t0.931735\t0.00308947 \t0.936944   \t0.925791   \n",
      "6  \t20    \t0.931185\t0.00384187 \t0.936965   \t0.923991   \n",
      "7  \t20    \t0.931374\t0.005043   \t0.936944   \t0.920257   \n",
      "8  \t18    \t0.93601 \t0.00473334 \t0.944393   \t0.931285   \n",
      "9  \t18    \t0.936566\t0.00297828 \t0.944393   \t0.93323    \n",
      "10 \t16    \t0.936201\t0.00400018 \t0.944393   \t0.929526   \n",
      "11 \t17    \t0.938611\t0.00459435 \t0.944393   \t0.929526   \n",
      "12 \t17    \t0.941384\t0.0039118  \t0.946182   \t0.936903   \n",
      "13 \t18    \t0.939903\t0.00456663 \t0.946182   \t0.933147   \n",
      "14 \t17    \t0.939732\t0.00642721 \t0.946182   \t0.927695   \n",
      "15 \t18    \t0.939377\t0.0049716  \t0.946182   \t0.929557   \n",
      "16 \t17    \t0.938799\t0.00300211 \t0.944393   \t0.936903   \n",
      "17 \t18    \t0.938803\t0.00526528 \t0.944393   \t0.925771   \n",
      "18 \t18    \t0.939556\t0.00605879 \t0.944393   \t0.927654   \n",
      "19 \t19    \t0.939534\t0.00495286 \t0.944393   \t0.931295   \n",
      "20 \t19    \t0.938793\t0.00541396 \t0.944393   \t0.929443   \n",
      "21 \t18    \t0.940859\t0.0056693  \t0.944393   \t0.929516   \n",
      "22 \t15    \t0.940845\t0.00556311 \t0.944393   \t0.929485   \n",
      "23 \t20    \t0.93674 \t0.00580294 \t0.944393   \t0.927612   \n",
      "24 \t19    \t0.936566\t0.00735196 \t0.944393   \t0.923878   \n",
      "25 \t17    \t0.936202\t0.00754754 \t0.944393   \t0.923878   \n",
      "26 \t18    \t0.935069\t0.00476442 \t0.944393   \t0.927674   \n",
      "27 \t19    \t0.939334\t0.00392002 \t0.944393   \t0.933188   \n",
      "28 \t19    \t0.939165\t0.00568835 \t0.944393   \t0.927685   \n",
      "29 \t18    \t0.938611\t0.00522827 \t0.944393   \t0.931347   \n",
      "30 \t19    \t0.936737\t0.00385212 \t0.944393   \t0.931399   \n",
      "31 \t17    \t0.937296\t0.00369852 \t0.944393   \t0.931399   \n",
      "32 \t17    \t0.94101 \t0.00286215 \t0.944393   \t0.935071   \n",
      "33 \t18    \t0.939341\t0.00621635 \t0.944393   \t0.927654   \n",
      "34 \t19    \t0.936752\t0.00594145 \t0.94432    \t0.927664   \n",
      "35 \t19    \t0.942109\t0.00271271 \t0.94432    \t0.936903   \n"
     ]
    },
    {
     "data": {
      "text/plain": [
       "0.9364069952305246"
      ]
     },
     "execution_count": 5,
     "metadata": {},
     "output_type": "execute_result"
    }
   ],
   "source": [
    "evolved_estimator.fit(X_train,y_train)\n",
    "y_predicy_ga = evolved_estimator.predict(X_test)\n",
    "accuracy_score(y_test,y_predicy_ga)"
   ]
  },
  {
   "cell_type": "code",
   "execution_count": 7,
   "metadata": {},
   "outputs": [
    {
     "ename": "AttributeError",
     "evalue": "'GASearchCV' object has no attribute 'best_params'",
     "output_type": "error",
     "traceback": [
      "\u001b[1;31m---------------------------------------------------------------------------\u001b[0m",
      "\u001b[1;31mAttributeError\u001b[0m                            Traceback (most recent call last)",
      "\u001b[1;32m<ipython-input-7-2fde73abbd22>\u001b[0m in \u001b[0;36m<module>\u001b[1;34m\u001b[0m\n\u001b[1;32m----> 1\u001b[1;33m \u001b[0mevolved_estimator\u001b[0m\u001b[1;33m.\u001b[0m\u001b[0mbest_params\u001b[0m\u001b[1;33m\u001b[0m\u001b[1;33m\u001b[0m\u001b[0m\n\u001b[0m",
      "\u001b[1;31mAttributeError\u001b[0m: 'GASearchCV' object has no attribute 'best_params'"
     ]
    }
   ],
   "source": [
    "evolved_estimator.best_params"
   ]
  },
  {
   "cell_type": "code",
   "execution_count": null,
   "metadata": {},
   "outputs": [],
   "source": []
  }
 ],
 "metadata": {
  "kernelspec": {
   "display_name": "Python 3",
   "language": "python",
   "name": "python3"
  },
  "language_info": {
   "codemirror_mode": {
    "name": "ipython",
    "version": 3
   },
   "file_extension": ".py",
   "mimetype": "text/x-python",
   "name": "python",
   "nbconvert_exporter": "python",
   "pygments_lexer": "ipython3",
   "version": "3.7.4"
  }
 },
 "nbformat": 4,
 "nbformat_minor": 4
}
