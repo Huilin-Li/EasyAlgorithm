{
 "cells": [
  {
   "cell_type": "code",
   "execution_count": 1,
   "metadata": {},
   "outputs": [],
   "source": [
    "import warnings\n",
    "warnings.filterwarnings('ignore')"
   ]
  },
  {
   "cell_type": "code",
   "execution_count": 10,
   "metadata": {},
   "outputs": [],
   "source": [
    "# import libraries\n",
    "import numpy as np # linear algebra\n",
    "import pandas as pd \n",
    "import os\n",
    "from subprocess import check_output\n",
    "import seaborn as sns\n",
    "import matplotlib.pyplot as plt\n",
    "import warnings\n",
    "from pandas.plotting import lag_plot\n",
    "from pandas import datetime\n",
    "from sklearn.metrics import mean_squared_error\n",
    "from math import sqrt\n",
    "\n",
    "from keras.models import Sequential\n",
    "from keras.layers import Dense"
   ]
  },
  {
   "cell_type": "code",
   "execution_count": 20,
   "metadata": {},
   "outputs": [
    {
     "data": {
      "text/html": [
       "<div>\n",
       "<style scoped>\n",
       "    .dataframe tbody tr th:only-of-type {\n",
       "        vertical-align: middle;\n",
       "    }\n",
       "\n",
       "    .dataframe tbody tr th {\n",
       "        vertical-align: top;\n",
       "    }\n",
       "\n",
       "    .dataframe thead th {\n",
       "        text-align: right;\n",
       "    }\n",
       "</style>\n",
       "<table border=\"1\" class=\"dataframe\">\n",
       "  <thead>\n",
       "    <tr style=\"text-align: right;\">\n",
       "      <th></th>\n",
       "      <th>price</th>\n",
       "    </tr>\n",
       "    <tr>\n",
       "      <th>datesold</th>\n",
       "      <th></th>\n",
       "    </tr>\n",
       "  </thead>\n",
       "  <tbody>\n",
       "    <tr>\n",
       "      <th>2007-02-07 00:00:00</th>\n",
       "      <td>525000</td>\n",
       "    </tr>\n",
       "    <tr>\n",
       "      <th>2007-02-27 00:00:00</th>\n",
       "      <td>290000</td>\n",
       "    </tr>\n",
       "    <tr>\n",
       "      <th>2007-03-07 00:00:00</th>\n",
       "      <td>328000</td>\n",
       "    </tr>\n",
       "    <tr>\n",
       "      <th>2007-03-09 00:00:00</th>\n",
       "      <td>380000</td>\n",
       "    </tr>\n",
       "    <tr>\n",
       "      <th>2007-03-21 00:00:00</th>\n",
       "      <td>310000</td>\n",
       "    </tr>\n",
       "  </tbody>\n",
       "</table>\n",
       "</div>"
      ],
      "text/plain": [
       "                      price\n",
       "datesold                   \n",
       "2007-02-07 00:00:00  525000\n",
       "2007-02-27 00:00:00  290000\n",
       "2007-03-07 00:00:00  328000\n",
       "2007-03-09 00:00:00  380000\n",
       "2007-03-21 00:00:00  310000"
      ]
     },
     "execution_count": 20,
     "metadata": {},
     "output_type": "execute_result"
    }
   ],
   "source": [
    "df = pd.read_csv(\"./raw_sales.csv\")[['datesold', 'price']]\n",
    "df.set_index('datesold', inplace=True)\n",
    "df.head()"
   ]
  },
  {
   "cell_type": "code",
   "execution_count": 21,
   "metadata": {},
   "outputs": [],
   "source": [
    "# split into train set and test set\n",
    "train, test = df[0:int(len(df)*0.8)], df[int(len(df)*0.8):]"
   ]
  },
  {
   "cell_type": "markdown",
   "metadata": {},
   "source": [
    "## In DNN, there should be a y for each X, but a single time-series only has 'X'. The way of dealing with this situation is to convert each x point as the y for $win$ previous x points"
   ]
  },
  {
   "cell_type": "code",
   "execution_count": 28,
   "metadata": {},
   "outputs": [],
   "source": [
    "# data pre-processing\n",
    "def X2Xy(X_arr, win):\n",
    "    X, Y = [], []\n",
    "    for i in range(len(X_arr) - win):\n",
    "        X.append(X_arr[i:i+win])\n",
    "        Y.append(X_arr[i+win])\n",
    "    return np.array(X), np.array(Y)\n",
    "\n",
    "trainX, trainY = X2Xy(train['price'].values, win=30)\n",
    "testX, testY = X2Xy(test['price'].values, win=30)"
   ]
  },
  {
   "cell_type": "code",
   "execution_count": 32,
   "metadata": {},
   "outputs": [
    {
     "name": "stdout",
     "output_type": "stream",
     "text": [
      "Train on 23634 samples, validate on 5886 samples\n",
      "Epoch 1/100\n",
      "23634/23634 [==============================] - 4s 153us/step - loss: 77080743279.7197 - mse: 77080723456.0000 - mae: 169440.0625 - val_loss: 34515279987.3435 - val_mse: 34515275776.0000 - val_mae: 119657.3281\n",
      "Epoch 2/100\n",
      "23634/23634 [==============================] - 4s 148us/step - loss: 59911442619.8568 - mse: 59911417856.0000 - mae: 130880.1328 - val_loss: 34159740421.2192 - val_mse: 34159742976.0000 - val_mae: 116335.7734\n",
      "Epoch 3/100\n",
      "23634/23634 [==============================] - 3s 143us/step - loss: 58273962769.8401 - mse: 58273947648.0000 - mae: 124106.0234 - val_loss: 33991191931.9552 - val_mse: 33991198720.0000 - val_mae: 115800.4844\n",
      "Epoch 4/100\n",
      "23634/23634 [==============================] - 3s 146us/step - loss: 57641170592.4631 - mse: 57641222144.0000 - mae: 121792.1250 - val_loss: 33846555853.1131 - val_mse: 33846562816.0000 - val_mae: 115493.0312\n",
      "Epoch 5/100\n",
      "23634/23634 [==============================] - 3s 146us/step - loss: 57169681295.4516 - mse: 57169715200.0000 - mae: 120358.3125 - val_loss: 33674883801.1172 - val_mse: 33674891264.0000 - val_mae: 114948.3047\n",
      "Epoch 6/100\n",
      "23634/23634 [==============================] - 4s 150us/step - loss: 56860745708.9576 - mse: 56860753920.0000 - mae: 119663.3438 - val_loss: 33590243754.9276 - val_mse: 33590239232.0000 - val_mae: 114620.5312\n",
      "Epoch 7/100\n",
      "23634/23634 [==============================] - 4s 154us/step - loss: 56582349120.9911 - mse: 56582324224.0000 - mae: 118737.4219 - val_loss: 33454911055.8532 - val_mse: 33454931968.0000 - val_mae: 114315.3203\n",
      "Epoch 8/100\n",
      "23634/23634 [==============================] - 4s 151us/step - loss: 56370361757.5060 - mse: 56370343936.0000 - mae: 118164.4531 - val_loss: 33558281455.5596 - val_mse: 33558294528.0000 - val_mae: 114366.5469\n",
      "Epoch 9/100\n",
      "23634/23634 [==============================] - 4s 151us/step - loss: 56164745976.5748 - mse: 56164712448.0000 - mae: 117724.9844 - val_loss: 33512555799.2253 - val_mse: 33512548352.0000 - val_mae: 114285.7422\n",
      "Epoch 10/100\n",
      "23634/23634 [==============================] - 4s 151us/step - loss: 56092004368.0853 - mse: 56092004352.0000 - mae: 117485.0469 - val_loss: 33497659971.8491 - val_mse: 33497655296.0000 - val_mae: 114299.6406\n",
      "Epoch 11/100\n",
      "23634/23634 [==============================] - 4s 157us/step - loss: 55885828693.4471 - mse: 55885840384.0000 - mae: 117132.8672 - val_loss: 33479801344.0000 - val_mse: 33479806976.0000 - val_mae: 114016.1641\n",
      "Epoch 12/100\n",
      "23634/23634 [==============================] - 4s 168us/step - loss: 55783220779.2353 - mse: 55783202816.0000 - mae: 116900.4844 - val_loss: 33572620750.4179 - val_mse: 33572634624.0000 - val_mae: 114522.4219\n",
      "Epoch 13/100\n",
      "23634/23634 [==============================] - 4s 167us/step - loss: 55657775264.9180 - mse: 55657783296.0000 - mae: 116749.5625 - val_loss: 33568968302.1244 - val_mse: 33568968704.0000 - val_mae: 114387.6406\n",
      "Epoch 14/100\n",
      "23634/23634 [==============================] - 4s 167us/step - loss: 55571051019.6821 - mse: 55571079168.0000 - mae: 116461.7812 - val_loss: 33581954307.3925 - val_mse: 33581946880.0000 - val_mae: 114639.6250\n",
      "Epoch 15/100\n",
      "23634/23634 [==============================] - 4s 162us/step - loss: 55506758134.4788 - mse: 55506755584.0000 - mae: 116306.2031 - val_loss: 33560310635.2538 - val_mse: 33560303616.0000 - val_mae: 114382.8203\n",
      "Epoch 16/100\n",
      "23634/23634 [==============================] - 4s 153us/step - loss: 55452682214.5072 - mse: 55452659712.0000 - mae: 116101.7422 - val_loss: 33657358148.6320 - val_mse: 33657370624.0000 - val_mae: 114791.7188\n",
      "Epoch 17/100\n",
      "23634/23634 [==============================] - 3s 143us/step - loss: 55383566286.7205 - mse: 55383572480.0000 - mae: 116059.1172 - val_loss: 33577110763.9062 - val_mse: 33577109504.0000 - val_mae: 114396.5078\n",
      "Epoch 18/100\n",
      "23634/23634 [==============================] - 3s 147us/step - loss: 55326323757.2826 - mse: 55326298112.0000 - mae: 115886.9922 - val_loss: 33591860242.7890 - val_mse: 33591865344.0000 - val_mae: 114717.1719\n",
      "Epoch 19/100\n",
      "23634/23634 [==============================] - 4s 176us/step - loss: 55268700610.4697 - mse: 55268728832.0000 - mae: 115745.8750 - val_loss: 33558492132.8603 - val_mse: 33558499328.0000 - val_mae: 114321.2031\n",
      "Epoch 20/100\n",
      "23634/23634 [==============================] - 4s 170us/step - loss: 55251208084.3260 - mse: 55251255296.0000 - mae: 115742.7734 - val_loss: 33687598148.3711 - val_mse: 33687595008.0000 - val_mae: 114835.3359\n",
      "Epoch 21/100\n",
      "23634/23634 [==============================] - 5s 195us/step - loss: 55184039616.9749 - mse: 55184060416.0000 - mae: 115602.9688 - val_loss: 33580568902.7197 - val_mse: 33580570624.0000 - val_mae: 114581.2969\n",
      "Epoch 22/100\n",
      "23634/23634 [==============================] - 4s 151us/step - loss: 55164449187.0790 - mse: 55164424192.0000 - mae: 115592.8281 - val_loss: 33528794585.9001 - val_mse: 33528813568.0000 - val_mae: 114216.4375\n",
      "Epoch 23/100\n",
      "23634/23634 [==============================] - 4s 158us/step - loss: 55103628410.8657 - mse: 55103590400.0000 - mae: 115499.3359 - val_loss: 33621300580.9908 - val_mse: 33621299200.0000 - val_mae: 114485.3359\n",
      "Epoch 24/100\n",
      "23634/23634 [==============================] - 4s 186us/step - loss: 55073403205.1018 - mse: 55073390592.0000 - mae: 115482.0469 - val_loss: 33648467975.3068 - val_mse: 33648488448.0000 - val_mae: 115011.0156\n",
      "Epoch 25/100\n",
      "23634/23634 [==============================] - 4s 157us/step - loss: 55033090887.2790 - mse: 55033131008.0000 - mae: 115598.9609 - val_loss: 33719764730.5199 - val_mse: 33719769088.0000 - val_mae: 114771.3359\n",
      "Epoch 26/100\n",
      "23634/23634 [==============================] - 4s 156us/step - loss: 54906417899.8690 - mse: 54906421248.0000 - mae: 115365.0703 - val_loss: 33720730454.8991 - val_mse: 33720725504.0000 - val_mae: 115098.8359\n",
      "Epoch 27/100\n",
      "23634/23634 [==============================] - 4s 154us/step - loss: 54915441236.8297 - mse: 54915461120.0000 - mae: 115195.7422 - val_loss: 33703081363.4414 - val_mse: 33703067648.0000 - val_mae: 114734.3203\n",
      "Epoch 28/100\n",
      "23634/23634 [==============================] - 4s 156us/step - loss: 54937993085.6116 - mse: 54937956352.0000 - mae: 115202.0703 - val_loss: 33668982437.9694 - val_mse: 33668970496.0000 - val_mae: 114324.4297\n",
      "Epoch 29/100\n",
      "23634/23634 [==============================] - 4s 161us/step - loss: 54874283962.8820 - mse: 54874284032.0000 - mae: 115242.6875 - val_loss: 33705489017.0846 - val_mse: 33705484288.0000 - val_mae: 114299.8906\n",
      "Epoch 30/100\n",
      "23634/23634 [==============================] - 4s 155us/step - loss: 54690555286.2757 - mse: 54690537472.0000 - mae: 114984.2969 - val_loss: 33709824272.4404 - val_mse: 33709826048.0000 - val_mae: 114251.5547\n",
      "Epoch 31/100\n",
      "23634/23634 [==============================] - 4s 156us/step - loss: 54725845552.1584 - mse: 54725857280.0000 - mae: 114901.5625 - val_loss: 33721041197.6677 - val_mse: 33721040896.0000 - val_mae: 114279.6875\n",
      "Epoch 32/100\n",
      "23634/23634 [==============================] - 4s 159us/step - loss: 54526702289.1577 - mse: 54526693376.0000 - mae: 114664.8438 - val_loss: 33716018920.2528 - val_mse: 33716013056.0000 - val_mae: 114077.0625\n",
      "Epoch 33/100\n",
      "23634/23634 [==============================] - 4s 162us/step - loss: 54589835122.1569 - mse: 54589861888.0000 - mae: 114756.0156 - val_loss: 33815191111.5025 - val_mse: 33815193600.0000 - val_mae: 114513.3125\n",
      "Epoch 34/100\n",
      "23634/23634 [==============================] - 4s 158us/step - loss: 54572296629.7152 - mse: 54572285952.0000 - mae: 114687.8594 - val_loss: 33891562378.0469 - val_mse: 33891577856.0000 - val_mae: 115359.4688\n",
      "Epoch 35/100\n",
      "23634/23634 [==============================] - 4s 156us/step - loss: 54531374714.5732 - mse: 54531383296.0000 - mae: 114671.4062 - val_loss: 33850345061.7737 - val_mse: 33850341376.0000 - val_mae: 114761.3750\n",
      "Epoch 36/100\n",
      "23634/23634 [==============================] - 4s 152us/step - loss: 54472705161.0825 - mse: 54472712192.0000 - mae: 114657.7109 - val_loss: 33845412545.6310 - val_mse: 33845393408.0000 - val_mae: 114705.1484\n",
      "Epoch 37/100\n",
      "23634/23634 [==============================] - 4s 148us/step - loss: 54408136247.1612 - mse: 54408114176.0000 - mae: 114556.3750 - val_loss: 33900712830.0428 - val_mse: 33900707840.0000 - val_mae: 114801.6328\n"
     ]
    },
    {
     "name": "stdout",
     "output_type": "stream",
     "text": [
      "Epoch 38/100\n",
      "23634/23634 [==============================] - 4s 150us/step - loss: 54312097383.9208 - mse: 54312050688.0000 - mae: 114405.1484 - val_loss: 33896275599.5270 - val_mse: 33896292352.0000 - val_mae: 115002.8906\n",
      "Epoch 39/100\n",
      "23634/23634 [==============================] - 3s 144us/step - loss: 54342025488.5565 - mse: 54342041600.0000 - mae: 114510.6719 - val_loss: 33930083641.6718 - val_mse: 33930092544.0000 - val_mae: 114842.2344\n",
      "Epoch 40/100\n",
      "23634/23634 [==============================] - 3s 145us/step - loss: 54261995372.3564 - mse: 54262001664.0000 - mae: 114437.9375 - val_loss: 33973757564.7380 - val_mse: 33973760000.0000 - val_mae: 115233.5312\n",
      "Epoch 41/100\n",
      "23634/23634 [==============================] - 3s 146us/step - loss: 54218157861.3212 - mse: 54218174464.0000 - mae: 114239.3750 - val_loss: 34102330255.2661 - val_mse: 34102331392.0000 - val_mae: 115804.0859\n",
      "Epoch 42/100\n",
      "23634/23634 [==============================] - 3s 143us/step - loss: 54107310426.5814 - mse: 54107328512.0000 - mae: 114246.0859 - val_loss: 34026518233.6391 - val_mse: 34026520576.0000 - val_mae: 115354.4688\n",
      "Epoch 43/100\n",
      "23634/23634 [==============================] - 4s 152us/step - loss: 54165521284.5169 - mse: 54165524480.0000 - mae: 114288.4766 - val_loss: 34010183447.2253 - val_mse: 34010187776.0000 - val_mae: 115096.0391\n",
      "Epoch 44/100\n",
      "23634/23634 [==============================] - 4s 153us/step - loss: 54070373469.3110 - mse: 54070419456.0000 - mae: 114305.5938 - val_loss: 34050785263.2987 - val_mse: 34050791424.0000 - val_mae: 115499.0391\n",
      "Epoch 45/100\n",
      "23634/23634 [==============================] - 3s 145us/step - loss: 54024053031.0759 - mse: 54024073216.0000 - mae: 114368.6797 - val_loss: 33984822095.5923 - val_mse: 33984819200.0000 - val_mae: 115100.5312\n",
      "Epoch 46/100\n",
      "23634/23634 [==============================] - 3s 148us/step - loss: 54045805697.8522 - mse: 54045827072.0000 - mae: 114452.2344 - val_loss: 34065926511.4292 - val_mse: 34065928192.0000 - val_mae: 115067.1250\n",
      "Epoch 47/100\n",
      "23634/23634 [==============================] - 3s 147us/step - loss: 53962166867.3511 - mse: 53962149888.0000 - mae: 114225.9766 - val_loss: 34110994472.7095 - val_mse: 34110996480.0000 - val_mae: 115311.4297\n",
      "Epoch 48/100\n",
      "23634/23634 [==============================] - 3s 146us/step - loss: 53859803943.7421 - mse: 53859827712.0000 - mae: 114090.3438 - val_loss: 34036480169.1009 - val_mse: 34036484096.0000 - val_mae: 115127.3984\n",
      "Epoch 49/100\n",
      "23634/23634 [==============================] - 3s 144us/step - loss: 53901169717.7477 - mse: 53901172736.0000 - mae: 114108.7109 - val_loss: 34020550425.8349 - val_mse: 34020558848.0000 - val_mae: 114625.7812\n",
      "Epoch 50/100\n",
      "23634/23634 [==============================] - 4s 151us/step - loss: 53831962426.6870 - mse: 53831962624.0000 - mae: 114114.6406 - val_loss: 34074678157.7003 - val_mse: 34074685440.0000 - val_mae: 115315.3906\n",
      "Epoch 51/100\n",
      "23634/23634 [==============================] - 4s 154us/step - loss: 53820763284.6184 - mse: 53820739584.0000 - mae: 114229.9609 - val_loss: 34091066511.5270 - val_mse: 34091065344.0000 - val_mae: 115320.6250\n",
      "Epoch 52/100\n",
      "23634/23634 [==============================] - 4s 153us/step - loss: 53881708970.2280 - mse: 53881716736.0000 - mae: 114006.6797 - val_loss: 34143250441.3945 - val_mse: 34143258624.0000 - val_mae: 115233.7734\n",
      "Epoch 53/100\n",
      "23634/23634 [==============================] - 4s 153us/step - loss: 53704762553.7608 - mse: 53704699904.0000 - mae: 113912.6641 - val_loss: 34246734385.0601 - val_mse: 34246735872.0000 - val_mae: 115715.4766\n",
      "Epoch 54/100\n",
      "23634/23634 [==============================] - 4s 156us/step - loss: 53658982549.5121 - mse: 53658963968.0000 - mae: 113834.1250 - val_loss: 34272474187.6779 - val_mse: 34272466944.0000 - val_mae: 115824.0625\n",
      "Epoch 55/100\n",
      "23634/23634 [==============================] - 4s 152us/step - loss: 53685249984.1787 - mse: 53685256192.0000 - mae: 113947.2969 - val_loss: 34105672386.1529 - val_mse: 34105686016.0000 - val_mae: 115160.4297\n",
      "Epoch 56/100\n",
      "23634/23634 [==============================] - 4s 154us/step - loss: 53726953200.8896 - mse: 53726961664.0000 - mae: 113776.7188 - val_loss: 34109776928.3588 - val_mse: 34109769728.0000 - val_mae: 115168.8672\n",
      "Epoch 57/100\n",
      "23634/23634 [==============================] - 4s 157us/step - loss: 53722459949.2338 - mse: 53722435584.0000 - mae: 113961.8672 - val_loss: 34159003448.1060 - val_mse: 34159007744.0000 - val_mae: 115397.9062\n",
      "Epoch 58/100\n",
      "23634/23634 [==============================] - 4s 150us/step - loss: 53559887234.4697 - mse: 53559902208.0000 - mae: 113688.1562 - val_loss: 34183894465.3700 - val_mse: 34183903232.0000 - val_mae: 115430.4453\n",
      "Epoch 59/100\n",
      "23634/23634 [==============================] - 4s 162us/step - loss: 53516203023.1104 - mse: 53516206080.0000 - mae: 113670.1406 - val_loss: 34248174453.6922 - val_mse: 34248175616.0000 - val_mae: 115395.9922\n",
      "Epoch 60/100\n",
      "23634/23634 [==============================] - 4s 164us/step - loss: 53668150139.5481 - mse: 53668134912.0000 - mae: 114125.4766 - val_loss: 34162715842.6748 - val_mse: 34162726912.0000 - val_mae: 114960.8125\n",
      "Epoch 61/100\n",
      "23634/23634 [==============================] - 4s 153us/step - loss: 53445529579.0729 - mse: 53445500928.0000 - mae: 113711.5625 - val_loss: 34205406436.0775 - val_mse: 34205394944.0000 - val_mae: 114844.5234\n",
      "Epoch 62/100\n",
      "23634/23634 [==============================] - 6s 247us/step - loss: 53496748409.5496 - mse: 53496754176.0000 - mae: 113678.2422 - val_loss: 34222500624.4404 - val_mse: 34222503936.0000 - val_mae: 115311.9844\n",
      "Epoch 63/100\n",
      "23634/23634 [==============================] - 4s 185us/step - loss: 53688498456.1117 - mse: 53688483840.0000 - mae: 113780.2578 - val_loss: 34239824135.5678 - val_mse: 34239825920.0000 - val_mae: 115439.9609\n",
      "Epoch 64/100\n",
      "23634/23634 [==============================] - 4s 190us/step - loss: 53385195174.8322 - mse: 53385224192.0000 - mae: 113499.8672 - val_loss: 34371372785.6473 - val_mse: 34371375104.0000 - val_mae: 115595.6016\n",
      "Epoch 65/100\n",
      "23634/23634 [==============================] - 7s 277us/step - loss: 53582565773.4207 - mse: 53582569472.0000 - mae: 113871.5078 - val_loss: 34192744284.6402 - val_mse: 34192750592.0000 - val_mae: 115369.7422\n",
      "Epoch 66/100\n",
      "23634/23634 [==============================] - 7s 291us/step - loss: 53394065325.1201 - mse: 53394014208.0000 - mae: 113659.2109 - val_loss: 34436303764.4852 - val_mse: 34436304896.0000 - val_mae: 116324.8594\n",
      "Epoch 67/100\n",
      "23634/23634 [==============================] - 4s 166us/step - loss: 53353379382.9662 - mse: 53353414656.0000 - mae: 113568.0547 - val_loss: 34232149020.7054 - val_mse: 34232143872.0000 - val_mae: 115271.8281\n",
      "Epoch 68/100\n",
      "23634/23634 [==============================] - 4s 159us/step - loss: 53498727350.7875 - mse: 53498728448.0000 - mae: 113662.2578 - val_loss: 34244378887.5678 - val_mse: 34244380672.0000 - val_mae: 115073.7500\n",
      "Epoch 69/100\n",
      "23634/23634 [==============================] - 4s 162us/step - loss: 53305248945.9619 - mse: 53305245696.0000 - mae: 113381.2656 - val_loss: 34383965612.4934 - val_mse: 34383970304.0000 - val_mae: 115452.4219\n",
      "Epoch 70/100\n",
      "23634/23634 [==============================] - 4s 163us/step - loss: 53302538489.2084 - mse: 53302554624.0000 - mae: 113475.1250 - val_loss: 34320117514.1774 - val_mse: 34320130048.0000 - val_mae: 115397.8906\n",
      "Epoch 71/100\n",
      "23634/23634 [==============================] - 4s 160us/step - loss: 53410394172.5392 - mse: 53410394112.0000 - mae: 113487.8438 - val_loss: 34341035075.3272 - val_mse: 34341031936.0000 - val_mae: 115616.8516\n",
      "Epoch 72/100\n",
      "23634/23634 [==============================] - 4s 161us/step - loss: 53231956378.2564 - mse: 53231910912.0000 - mae: 113414.1562 - val_loss: 34364302386.6259 - val_mse: 34364297216.0000 - val_mae: 115201.2969\n",
      "Epoch 73/100\n",
      "23634/23634 [==============================] - 4s 160us/step - loss: 53224888841.4887 - mse: 53224882176.0000 - mae: 113314.2578 - val_loss: 34431366653.3904 - val_mse: 34431361024.0000 - val_mae: 115492.4141\n",
      "Epoch 74/100\n",
      "23634/23634 [==============================] - 4s 160us/step - loss: 53273240754.5306 - mse: 53273231360.0000 - mae: 113503.7188 - val_loss: 34430377990.2630 - val_mse: 34430365696.0000 - val_mae: 115779.7422\n"
     ]
    },
    {
     "name": "stdout",
     "output_type": "stream",
     "text": [
      "Epoch 75/100\n",
      "23634/23634 [==============================] - 4s 165us/step - loss: 53313557310.8139 - mse: 53313548288.0000 - mae: 113462.0625 - val_loss: 34361225043.2457 - val_mse: 34361221120.0000 - val_mae: 115642.3594\n",
      "Epoch 76/100\n",
      "23634/23634 [==============================] - 4s 163us/step - loss: 53108718301.9122 - mse: 53108682752.0000 - mae: 113087.9219 - val_loss: 34450417926.5240 - val_mse: 34450423808.0000 - val_mae: 116551.3359\n",
      "Epoch 77/100\n",
      "23634/23634 [==============================] - 4s 164us/step - loss: 53157827307.7553 - mse: 53157801984.0000 - mae: 113355.9297 - val_loss: 34321879596.8848 - val_mse: 34321885184.0000 - val_mae: 115186.8906\n",
      "Epoch 78/100\n",
      "23634/23634 [==============================] - 4s 160us/step - loss: 53203198472.3514 - mse: 53203218432.0000 - mae: 113377.3984 - val_loss: 34347212917.4312 - val_mse: 34347214848.0000 - val_mae: 115622.1562\n",
      "Epoch 79/100\n",
      "23634/23634 [==============================] - 4s 161us/step - loss: 53239810585.5090 - mse: 53239795712.0000 - mae: 113239.5078 - val_loss: 34470854535.4373 - val_mse: 34470858752.0000 - val_mae: 115582.2500\n",
      "Epoch 80/100\n",
      "23634/23634 [==============================] - 4s 160us/step - loss: 53056767770.9063 - mse: 53056745472.0000 - mae: 113099.5859 - val_loss: 34348132407.8451 - val_mse: 34348140544.0000 - val_mae: 115253.8359\n",
      "Epoch 81/100\n",
      "23634/23634 [==============================] - 4s 167us/step - loss: 52989427630.8586 - mse: 52989423616.0000 - mae: 113146.7500 - val_loss: 34373588199.2090 - val_mse: 34373599232.0000 - val_mae: 115726.1172\n",
      "Epoch 82/100\n",
      "23634/23634 [==============================] - 4s 189us/step - loss: 52962091095.2506 - mse: 52962119680.0000 - mae: 113145.5781 - val_loss: 34412329440.6850 - val_mse: 34412331008.0000 - val_mae: 115813.5547\n",
      "Epoch 83/100\n",
      "23634/23634 [==============================] - 5s 192us/step - loss: 52933973356.1127 - mse: 52933996544.0000 - mae: 113040.6250 - val_loss: 34320465697.6636 - val_mse: 34320474112.0000 - val_mae: 114857.6250\n",
      "Epoch 84/100\n",
      "23634/23634 [==============================] - 5s 196us/step - loss: 53076331787.0485 - mse: 53076312064.0000 - mae: 113354.0781 - val_loss: 34404454207.4128 - val_mse: 34404462592.0000 - val_mae: 114556.7344\n",
      "Epoch 85/100\n",
      "23634/23634 [==============================] - 5s 228us/step - loss: 53054122464.9018 - mse: 53054164992.0000 - mae: 113084.7578 - val_loss: 34316174103.7472 - val_mse: 34316175360.0000 - val_mae: 115143.1562\n",
      "Epoch 86/100\n",
      "23634/23634 [==============================] - 5s 226us/step - loss: 52855495838.4483 - mse: 52855480320.0000 - mae: 112993.8516 - val_loss: 34458139586.9358 - val_mse: 34458144768.0000 - val_mae: 115969.2422\n",
      "Epoch 87/100\n",
      "23634/23634 [==============================] - 6s 237us/step - loss: 52836704653.6156 - mse: 52836728832.0000 - mae: 112848.3906 - val_loss: 34302410040.6279 - val_mse: 34302429184.0000 - val_mae: 115171.9375\n",
      "Epoch 88/100\n",
      "23634/23634 [==============================] - 5s 217us/step - loss: 52861158795.0485 - mse: 52861165568.0000 - mae: 113067.4453 - val_loss: 34202792434.4302 - val_mse: 34202800128.0000 - val_mae: 114649.0547\n",
      "Epoch 89/100\n",
      "23634/23634 [==============================] - 5s 205us/step - loss: 52806413540.6387 - mse: 52806402048.0000 - mae: 112953.9844 - val_loss: 34341855044.6320 - val_mse: 34341849088.0000 - val_mae: 115078.1875\n",
      "Epoch 90/100\n",
      "23634/23634 [==============================] - 4s 189us/step - loss: 52800712154.7601 - mse: 52800692224.0000 - mae: 113039.1953 - val_loss: 34342075063.1927 - val_mse: 34342060032.0000 - val_mae: 114216.2188\n",
      "Epoch 91/100\n",
      "23634/23634 [==============================] - 4s 188us/step - loss: 52973296771.5745 - mse: 52973281280.0000 - mae: 113264.4688 - val_loss: 34419717589.2029 - val_mse: 34419720192.0000 - val_mae: 114423.2812\n",
      "Epoch 92/100\n",
      "23634/23634 [==============================] - 4s 180us/step - loss: 52910365133.8594 - mse: 52910366720.0000 - mae: 113146.3047 - val_loss: 34295409363.8981 - val_mse: 34295408640.0000 - val_mae: 114450.1328\n",
      "Epoch 93/100\n",
      "23634/23634 [==============================] - 4s 166us/step - loss: 52719241394.2381 - mse: 52719206400.0000 - mae: 113013.3281 - val_loss: 34340346533.9694 - val_mse: 34340341760.0000 - val_mae: 114602.6797\n",
      "Epoch 94/100\n",
      "23634/23634 [==============================] - 4s 169us/step - loss: 52684628954.3376 - mse: 52684627968.0000 - mae: 112953.0938 - val_loss: 34333953121.5984 - val_mse: 34333952000.0000 - val_mae: 114460.7031\n",
      "Epoch 95/100\n",
      "23634/23634 [==============================] - 4s 165us/step - loss: 52611190432.5605 - mse: 52611145728.0000 - mae: 112964.1719 - val_loss: 34453151802.4546 - val_mse: 34453147648.0000 - val_mae: 114422.3750\n",
      "Epoch 96/100\n",
      "23634/23634 [==============================] - 4s 165us/step - loss: 52766950210.8434 - mse: 52766965760.0000 - mae: 113200.8828 - val_loss: 34554835221.1376 - val_mse: 34554818560.0000 - val_mae: 114979.3359\n",
      "Epoch 97/100\n",
      "23634/23634 [==============================] - 4s 159us/step - loss: 52867732344.0061 - mse: 52867756032.0000 - mae: 113090.1094 - val_loss: 34244465308.5749 - val_mse: 34244464640.0000 - val_mae: 114467.9141\n",
      "Epoch 98/100\n",
      "23634/23634 [==============================] - 4s 158us/step - loss: 52544390024.8388 - mse: 52544389120.0000 - mae: 112840.7656 - val_loss: 34325042922.8624 - val_mse: 34325069824.0000 - val_mae: 114552.7266\n",
      "Epoch 99/100\n",
      "23634/23634 [==============================] - 4s 158us/step - loss: 52616250901.0571 - mse: 52616241152.0000 - mae: 112847.2578 - val_loss: 34476372154.8461 - val_mse: 34476363776.0000 - val_mae: 114692.5156\n",
      "Epoch 100/100\n",
      "23634/23634 [==============================] - 4s 162us/step - loss: 52557413426.6281 - mse: 52557422592.0000 - mae: 112815.5625 - val_loss: 34306126437.2518 - val_mse: 34306138112.0000 - val_mae: 114174.2812\n"
     ]
    }
   ],
   "source": [
    "model=Sequential()\n",
    "model.add(Dense(units=32, input_dim=30, activation='relu')) # input_dim is the dim of 1-D X\n",
    "model.add(Dense(8, activation='relu'))\n",
    "model.add(Dense(1)) # = dim of y\n",
    "model.compile(loss='mean_squared_error',  optimizer='adam',metrics = ['mse', 'mae'])\n",
    "\n",
    "history=model.fit(trainX,trainY, epochs=100, \n",
    "                  batch_size=30, verbose=1, \n",
    "                  validation_data=(testX,testY),\n",
    "                  shuffle=False)"
   ]
  },
  {
   "cell_type": "code",
   "execution_count": 33,
   "metadata": {},
   "outputs": [],
   "source": [
    "def model_loss(history):\n",
    "    plt.figure(figsize=(8,4))\n",
    "    plt.plot(history.history['loss'], label='Train Loss')\n",
    "    plt.plot(history.history['val_loss'], label='Test Loss')\n",
    "    plt.title('model loss')\n",
    "    plt.ylabel('loss')\n",
    "    plt.xlabel('epochs')\n",
    "    plt.legend(loc='upper right')\n",
    "    plt.show()"
   ]
  },
  {
   "cell_type": "code",
   "execution_count": 34,
   "metadata": {},
   "outputs": [
    {
     "name": "stdout",
     "output_type": "stream",
     "text": [
      "Train Root Mean Squared Error(RMSE): 232504.37; Train Mean Absolute Error(MAE) : 120791.92 \n",
      "Test Root Mean Squared Error(RMSE): 185219.11; Test Mean Absolute Error(MAE) : 114174.24 \n"
     ]
    },
    {
     "data": {
      "image/png": "[encoded data removed]",
      "text/plain": [
       "<Figure size 576x288 with 1 Axes>"
      ]
     },
     "metadata": {
      "needs_background": "light"
     },
     "output_type": "display_data"
    }
   ],
   "source": [
    "train_score = model.evaluate(trainX, trainY, verbose=0)\n",
    "print('Train Root Mean Squared Error(RMSE): %.2f; Train Mean Absolute Error(MAE) : %.2f ' \n",
    "% (np.sqrt(train_score[1]), train_score[2]))\n",
    "test_score = model.evaluate(testX, testY, verbose=0)\n",
    "print('Test Root Mean Squared Error(RMSE): %.2f; Test Mean Absolute Error(MAE) : %.2f ' \n",
    "% (np.sqrt(test_score[1]), test_score[2]))\n",
    "model_loss(history)"
   ]
  },
  {
   "cell_type": "code",
   "execution_count": 38,
   "metadata": {},
   "outputs": [],
   "source": [
    " def prediction_plot(testY, test_predict):\n",
    "        len_prediction=[x for x in range(len(testY))]\n",
    "        plt.figure(figsize=(8,4))\n",
    "        plt.plot(len_prediction, testY, marker='.', label=\"actual\")\n",
    "        plt.plot(len_prediction, test_predict, 'r', label=\"prediction\")\n",
    "        plt.tight_layout()\n",
    "        sns.despine(top=True)\n",
    "        plt.subplots_adjust(left=0.07)\n",
    "        plt.ylabel('Ads Daily Spend', size=15)\n",
    "        plt.xlabel('Time step', size=15)\n",
    "        plt.legend(fontsize=15)\n",
    "        plt.show()"
   ]
  },
  {
   "cell_type": "code",
   "execution_count": 39,
   "metadata": {},
   "outputs": [
    {
     "data": {
      "image/png": "[encoded data removed]",
      "text/plain": [
       "<Figure size 576x288 with 1 Axes>"
      ]
     },
     "metadata": {
      "needs_background": "light"
     },
     "output_type": "display_data"
    }
   ],
   "source": [
    "test_predict= model.predict(testX)\n",
    "prediction_plot(testY, test_predict)"
   ]
  },
  {
   "cell_type": "code",
   "execution_count": null,
   "metadata": {},
   "outputs": [],
   "source": []
  }
 ],
 "metadata": {
  "kernelspec": {
   "display_name": "Python 3",
   "language": "python",
   "name": "python3"
  },
  "language_info": {
   "codemirror_mode": {
    "name": "ipython",
    "version": 3
   },
   "file_extension": ".py",
   "mimetype": "text/x-python",
   "name": "python",
   "nbconvert_exporter": "python",
   "pygments_lexer": "ipython3",
   "version": "3.7.4"
  }
 },
 "nbformat": 4,
 "nbformat_minor": 4
}
